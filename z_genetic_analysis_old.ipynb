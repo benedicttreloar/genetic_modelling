{
 "cells": [
  {
   "cell_type": "code",
   "execution_count": 2,
   "outputs": [],
   "source": [
    "import math\n",
    "import logging\n",
    "import sys\n",
    "from family_genetics_old import FamilyGenetics\n",
    "\n",
    "logger = logging.getLogger('genetic_probabilities')\n",
    "logging.basicConfig(format='%(asctime)s %(levelname)s:%(message)s', datefmt='%I:%M:%S', stream=sys.stdout)\n",
    "logger.setLevel('DEBUG')\n",
    "logging.info('Print something')"
   ],
   "metadata": {
    "collapsed": false,
    "pycharm": {
     "name": "#%%\n"
    }
   }
  },
  {
   "cell_type": "code",
   "execution_count": 3,
   "outputs": [
    {
     "data": {
      "text/plain": "[(1.0, 1.0, [0, 0, 0, 0]),\n (2.0, 2.0, [0, 0, 0, 1]),\n (1.0, 1.0, [0, 0, 0, 2]),\n (2.0, 2.0, [0, 0, 1, 0]),\n (4.0, 4.0, [0, 0, 1, 1]),\n (2.0, 2.0, [0, 0, 1, 2]),\n (1.0, 1.0, [0, 0, 2, 0]),\n (2.0, 2.0, [0, 0, 2, 1]),\n (1.0, 1.0, [0, 0, 2, 2]),\n (2.0, 2.0, [0, 1, 0, 0])]"
     },
     "execution_count": 3,
     "metadata": {},
     "output_type": "execute_result"
    }
   ],
   "source": [
    "class WeightedPermutations:\n",
    "\n",
    "    \"Get all lists of genetic permutations for n people with k genes\"\n",
    "\n",
    "    def __init__(self, n:int, k:int):\n",
    "\n",
    "        self.permutations = []\n",
    "\n",
    "        base_array = (1., 1., [None]*n)\n",
    "\n",
    "        self.__generateWeightedStrings(n, base_array, 0, k)\n",
    "\n",
    "    @staticmethod\n",
    "    def run(n, k=1):\n",
    "\n",
    "        temp = WeightedPermutations(n, k)\n",
    "\n",
    "        return temp.permutations\n",
    "\n",
    "    def __generateWeightedStrings(self, n, arr, i, k):\n",
    "\n",
    "        if i==n:\n",
    "            self.permutations += [arr]\n",
    "            return None\n",
    "\n",
    "        # Get all arrays with j in the i-th position\n",
    "        # Position 0 is incremented by weight\n",
    "        for j in range(k+1):\n",
    "            temp_arr = arr[2].copy()\n",
    "            temp_arr[i] = j\n",
    "            new_weight = arr[0] * math.comb(k, j)\n",
    "            new_arr = (new_weight, new_weight, temp_arr)\n",
    "            self.__generateWeightedStrings(n, new_arr, i+1, k)\n",
    "\n",
    "        return 'Complete'\n",
    "\n",
    "n = 4\n",
    "transmission_options = WeightedPermutations.run(n,2)\n",
    "transmission_options[:10]"
   ],
   "metadata": {
    "collapsed": false,
    "pycharm": {
     "name": "#%%\n"
    }
   }
  },
  {
   "cell_type": "code",
   "execution_count": null,
   "outputs": [],
   "source": [
    "# Demonstration genetic analysis\n",
    "\n",
    "family = FamilyGenetics()\n",
    "\n",
    "### Define Family Tree\n",
    "# Grandmother\n",
    "family.add_member('John Smith')\n",
    "# Mother\n",
    "family.add_member('Abigail Smith-Merchant', 'John Smith')\n",
    "# Grandfqther\n",
    "family.add_member('Arthur Merchant')\n",
    "# Father\n",
    "family.add_member('Richard Smith-Merchant', 'Arthur Merchant')\n",
    "# Carrier grandchild\n",
    "family.add_member('Dylan Smith-Merchant', ['Richard Smith-Merchant', 'Abigail Smith-Merchant'], status=1)\n",
    "# Uncle, parent of clear cousin\n",
    "family.add_member('Paul Jeffers-Merchant', 'Arthur Merchant')\n",
    "# Clear cousin\n",
    "family.add_member('Kim Jeffers-Merchant', 'Paul Jeffers-Merchant', status=0)\n",
    "\n",
    "### Specify any additional known genetic knowledge\n",
    "# In this example, there are no known recessive carriers\n",
    "family.specify_recessive_list([])\n"
   ],
   "metadata": {
    "collapsed": false,
    "pycharm": {
     "name": "#%%\n"
    }
   }
  }
 ],
 "metadata": {
  "kernelspec": {
   "display_name": "Python 3",
   "language": "python",
   "name": "python3"
  },
  "language_info": {
   "codemirror_mode": {
    "name": "ipython",
    "version": 2
   },
   "file_extension": ".py",
   "mimetype": "text/x-python",
   "name": "python",
   "nbconvert_exporter": "python",
   "pygments_lexer": "ipython2",
   "version": "2.7.6"
  }
 },
 "nbformat": 4,
 "nbformat_minor": 0
}