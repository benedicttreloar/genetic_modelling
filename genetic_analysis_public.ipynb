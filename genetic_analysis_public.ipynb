{
 "cells": [
  {
   "cell_type": "code",
   "execution_count": 1,
   "outputs": [],
   "source": [
    "import logging\n",
    "import sys\n",
    "from family_tree import FamilyTree\n",
    "from simulate_prevalence import SimulatePrevalence\n",
    "\n",
    "logger = logging.getLogger('genetic_probabilities')\n",
    "logging.basicConfig(format='%(asctime)s %(levelname)s:%(message)s', datefmt='%I:%M:%S', stream=sys.stdout)\n",
    "logger.setLevel('DEBUG')\n",
    "logging.info('Print something')"
   ],
   "metadata": {
    "collapsed": false,
    "pycharm": {
     "name": "#%%\n"
    }
   }
  },
  {
   "cell_type": "code",
   "execution_count": 2,
   "outputs": [],
   "source": [
    "family = FamilyTree()\n",
    "\n",
    "### Define Family Tree\n",
    "# Grandmother\n",
    "family.add_member('John Smith')\n",
    "# Mother\n",
    "family.add_member('Abigail Smith-Merchant', 'John Smith')\n",
    "# Grandfqther\n",
    "family.add_member('Arthur Merchant')\n",
    "# Father\n",
    "family.add_member('Richard Smith-Merchant', 'Arthur Merchant')\n",
    "# Carrier grandchild\n",
    "family.add_member('Dylan Smith-Merchant', ['Richard Smith-Merchant', 'Abigail Smith-Merchant'], status=1)\n",
    "# Uncle, parent of clear cousin\n",
    "family.add_member('Paul Jeffers-Merchant', 'Arthur Merchant')\n",
    "# Clear cousin\n",
    "family.add_member('Kim Jeffers-Merchant', 'Paul Jeffers-Merchant', status=0)\n",
    "\n",
    "### Specify any additional known genetic knowledge\n",
    "# In this example, there are no known recessive carriers\n",
    "family.specify_recessive_list([])"
   ],
   "metadata": {
    "collapsed": false,
    "pycharm": {
     "name": "#%%\n"
    }
   }
  },
  {
   "cell_type": "code",
   "execution_count": 4,
   "outputs": [
    {
     "name": "stdout",
     "output_type": "stream",
     "text": [
      "Starting simulation\n",
      "03:36:47 INFO:2 key people; initially 9 independent unvalidated initial genomes\n",
      "03:36:47 INFO:2 key people; after validation, 4 independent initial genomes remain\n",
      "03:36:47 INFO:64 potential transmission chains\n",
      "03:36:47 INFO:Starting simulation - 256 potential genome sets to create\n",
      "03:36:47 INFO:Simulation complete - 46 valid genome sets returned\n",
      "0\n",
      "1\n",
      "2\n"
     ]
    },
    {
     "data": {
      "text/plain": "                               0         1    2\nJohn Smith              0.426736  0.573264  0.0\nAbigail Smith-Merchant  0.428164  0.571836  0.0\nArthur Merchant         0.568982  0.431018  0.0\nRichard Smith-Merchant  0.570409  0.429591  0.0\nDylan Smith-Merchant    0.000000  1.000000  0.0\nPaul Jeffers-Merchant   0.856327  0.143673  0.0\nKim Jeffers-Merchant    1.000000  0.000000  0.0",
      "text/html": "<div>\n<style scoped>\n    .dataframe tbody tr th:only-of-type {\n        vertical-align: middle;\n    }\n\n    .dataframe tbody tr th {\n        vertical-align: top;\n    }\n\n    .dataframe thead th {\n        text-align: right;\n    }\n</style>\n<table border=\"1\" class=\"dataframe\">\n  <thead>\n    <tr style=\"text-align: right;\">\n      <th></th>\n      <th>0</th>\n      <th>1</th>\n      <th>2</th>\n    </tr>\n  </thead>\n  <tbody>\n    <tr>\n      <th>John Smith</th>\n      <td>0.426736</td>\n      <td>0.573264</td>\n      <td>0.0</td>\n    </tr>\n    <tr>\n      <th>Abigail Smith-Merchant</th>\n      <td>0.428164</td>\n      <td>0.571836</td>\n      <td>0.0</td>\n    </tr>\n    <tr>\n      <th>Arthur Merchant</th>\n      <td>0.568982</td>\n      <td>0.431018</td>\n      <td>0.0</td>\n    </tr>\n    <tr>\n      <th>Richard Smith-Merchant</th>\n      <td>0.570409</td>\n      <td>0.429591</td>\n      <td>0.0</td>\n    </tr>\n    <tr>\n      <th>Dylan Smith-Merchant</th>\n      <td>0.000000</td>\n      <td>1.000000</td>\n      <td>0.0</td>\n    </tr>\n    <tr>\n      <th>Paul Jeffers-Merchant</th>\n      <td>0.856327</td>\n      <td>0.143673</td>\n      <td>0.0</td>\n    </tr>\n    <tr>\n      <th>Kim Jeffers-Merchant</th>\n      <td>1.000000</td>\n      <td>0.000000</td>\n      <td>0.0</td>\n    </tr>\n  </tbody>\n</table>\n</div>"
     },
     "execution_count": 4,
     "metadata": {},
     "output_type": "execute_result"
    }
   ],
   "source": [
    "### Run simulation\n",
    "\n",
    "simulation = SimulatePrevalence(family, # Import family tree data\n",
    "                                gene_frequency=1/150, # Set gene frequency\n",
    "                                recessives_are_known=True # Choose whether recessives are known\n",
    "                                )\n",
    "\n",
    "genomes = simulation.simulate()\n",
    "\n",
    "probabilities = simulation.individual_probabilities()\n",
    "\n",
    "probabilities"
   ],
   "metadata": {
    "collapsed": false,
    "pycharm": {
     "name": "#%%\n"
    }
   }
  }
 ],
 "metadata": {
  "kernelspec": {
   "name": "pycharm-7cefbe00",
   "language": "python",
   "display_name": "PyCharm (hurler_modelling)"
  },
  "language_info": {
   "codemirror_mode": {
    "name": "ipython",
    "version": 2
   },
   "file_extension": ".py",
   "mimetype": "text/x-python",
   "name": "python",
   "nbconvert_exporter": "python",
   "pygments_lexer": "ipython2",
   "version": "2.7.6"
  }
 },
 "nbformat": 4,
 "nbformat_minor": 0
}