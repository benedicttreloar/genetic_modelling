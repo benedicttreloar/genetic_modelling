{
 "cells": [
  {
   "cell_type": "code",
   "execution_count": 1,
   "outputs": [],
   "source": [
    "import logging\n",
    "import sys\n",
    "from family_tree import FamilyTree\n",
    "from simulate_prevalence import SimulatePrevalence\n",
    "\n",
    "logger = logging.getLogger('genetic_probabilities')\n",
    "logging.basicConfig(format='%(asctime)s %(levelname)s:%(message)s', datefmt='%I:%M:%S', stream=sys.stdout)\n",
    "logger.setLevel('DEBUG')\n",
    "logging.info('Print something')"
   ],
   "metadata": {
    "collapsed": false,
    "pycharm": {
     "name": "#%%\n"
    }
   }
  },
  {
   "cell_type": "code",
   "execution_count": 3,
   "outputs": [
    {
     "name": "stdout",
     "output_type": "stream",
     "text": [
      "Starting simulation\n",
      "09:27:11 INFO:2 key people; initially 9 independent unvalidated initial genomes\n",
      "09:27:11 INFO:2 key people; after validation, 1 independent initial genomes remain\n",
      "09:27:11 INFO:4 potential transmission chains\n",
      "09:27:11 INFO:Starting simulation - 4 potential genome sets to create\n",
      "09:27:11 INFO:Simulation complete - 4 valid genome sets returned\n",
      "09:27:11 INFO:2 key people; initially 9 independent unvalidated initial genomes\n",
      "09:27:11 INFO:2 key people; after validation, 1 independent initial genomes remain\n",
      "09:27:11 INFO:2 key people; initially 9 independent unvalidated initial genomes\n",
      "09:27:11 INFO:2 key people; after validation, 1 independent initial genomes remain\n",
      "09:27:11 INFO:Initial genomes: tests passed\n",
      "09:27:11 INFO:4 potential transmission chains\n",
      "09:27:11 INFO:Transmission chains: tests passed\n",
      "Starting simulation\n",
      "09:27:11 INFO:2 key people; initially 9 independent unvalidated initial genomes\n",
      "09:27:11 INFO:2 key people; after validation, 1 independent initial genomes remain\n",
      "09:27:11 INFO:4 potential transmission chains\n",
      "09:27:11 INFO:Starting simulation - 4 potential genome sets to create\n",
      "09:27:11 INFO:Simulation complete - 4 valid genome sets returned\n",
      "09:27:11 INFO:Genomic simulation: tests passed\n"
     ]
    }
   ],
   "source": [
    "family = FamilyTree()\n",
    "\n",
    "### Define Family Tree\n",
    "family.add_member('Grandfather', status=1)\n",
    "family.add_member('Grandmother', status=1)\n",
    "family.add_member('Son', ['Grandfather', 'Grandmother'])\n",
    "\n",
    "simulation = SimulatePrevalence(family, # Import family tree data\n",
    "                                recessives_are_known=False,\n",
    "                                recessive_prevalence=0.5**2# Choose whether recessives are known\n",
    "                                )\n",
    "\n",
    "# Check initial genomes are correctly specified\n",
    "try:\n",
    "    assert(len(simulation._get_possible_initial_genomes(0.5)) == 1)\n",
    "    assert(simulation._get_possible_initial_genomes(0.5)[0][-1] == {'Grandfather': 1, 'Grandmother': 1})\n",
    "    logger.info('Initial genomes: tests passed')\n",
    "except Exception as e:\n",
    "    logger.warning('Issue with initial genomes: {}'.format(e))\n",
    "\n",
    "try:\n",
    "    transmission_chains = simulation._get_transmission_chains()\n",
    "    assert(len(transmission_chains) == 4)\n",
    "    assert(len(transmission_chains[0][-1]) == 2)\n",
    "    logger.info('Transmission chains: tests passed')\n",
    "except Exception as e:\n",
    "    logger.warning('Issue with transmission chains: {}'.format(e))\n",
    "\n",
    "try:\n",
    "    genomes = simulation.simulate()\n",
    "    assert(len(genomes) == 4)\n",
    "    assert(len(genomes[0][-1]) == 3)\n",
    "    assert(genomes[0][-1][0] == 1)\n",
    "\n",
    "    logger.info('Genomic simulation: tests passed')\n",
    "except Exception as e:\n",
    "    logger.warning('Issue with genomic simulation: {}'.format(e))\n",
    "\n",
    "try:\n",
    "    probabilities = simulation.individual_probabilities()\n",
    "    assert(probabilities.loc['Son',1] == 0.5)\n",
    "    assert(probabilities.loc['Son',2] == 0.25)\n",
    "except:\n",
    "    logger.warning('Issue with output probabilities')"
   ],
   "metadata": {
    "collapsed": false,
    "pycharm": {
     "name": "#%%\n"
    }
   }
  },
  {
   "cell_type": "code",
   "execution_count": 2,
   "outputs": [
    {
     "name": "stdout",
     "output_type": "stream",
     "text": [
      "Starting simulation\n",
      "09:44:03 INFO:4 key people; initially 81 independent unvalidated initial genomes\n",
      "09:44:03 INFO:4 key people; after validation, 81 independent initial genomes remain\n",
      "09:44:03 INFO:64 potential transmission chains\n",
      "09:44:03 INFO:Starting simulation - 5184 potential genome sets to create\n",
      "09:44:03 INFO:Simulation complete - 1296 valid genome sets returned\n",
      "Starting simulation\n",
      "09:44:03 INFO:4 key people; initially 81 independent unvalidated initial genomes\n",
      "09:44:03 INFO:4 key people; after validation, 81 independent initial genomes remain\n",
      "09:44:03 INFO:64 potential transmission chains\n",
      "09:44:03 INFO:Starting simulation - 5184 potential genome sets to create\n",
      "09:44:03 INFO:Simulation complete - 1296 valid genome sets returned\n"
     ]
    },
    {
     "data": {
      "text/plain": "                          0    1      2\nPaternal Grandfather  0.125  0.5  0.375\nPaternal Grandmother  0.125  0.5  0.375\nFather                0.000  0.5  0.500\nMaternal Grandfather  0.125  0.5  0.375\nMaternal Grandmother  0.125  0.5  0.375\nMother                0.000  0.5  0.500\nChild                 0.000  0.0  1.000",
      "text/html": "<div>\n<style scoped>\n    .dataframe tbody tr th:only-of-type {\n        vertical-align: middle;\n    }\n\n    .dataframe tbody tr th {\n        vertical-align: top;\n    }\n\n    .dataframe thead th {\n        text-align: right;\n    }\n</style>\n<table border=\"1\" class=\"dataframe\">\n  <thead>\n    <tr style=\"text-align: right;\">\n      <th></th>\n      <th>0</th>\n      <th>1</th>\n      <th>2</th>\n    </tr>\n  </thead>\n  <tbody>\n    <tr>\n      <th>Paternal Grandfather</th>\n      <td>0.125</td>\n      <td>0.5</td>\n      <td>0.375</td>\n    </tr>\n    <tr>\n      <th>Paternal Grandmother</th>\n      <td>0.125</td>\n      <td>0.5</td>\n      <td>0.375</td>\n    </tr>\n    <tr>\n      <th>Father</th>\n      <td>0.000</td>\n      <td>0.5</td>\n      <td>0.500</td>\n    </tr>\n    <tr>\n      <th>Maternal Grandfather</th>\n      <td>0.125</td>\n      <td>0.5</td>\n      <td>0.375</td>\n    </tr>\n    <tr>\n      <th>Maternal Grandmother</th>\n      <td>0.125</td>\n      <td>0.5</td>\n      <td>0.375</td>\n    </tr>\n    <tr>\n      <th>Mother</th>\n      <td>0.000</td>\n      <td>0.5</td>\n      <td>0.500</td>\n    </tr>\n    <tr>\n      <th>Child</th>\n      <td>0.000</td>\n      <td>0.0</td>\n      <td>1.000</td>\n    </tr>\n  </tbody>\n</table>\n</div>"
     },
     "execution_count": 2,
     "metadata": {},
     "output_type": "execute_result"
    }
   ],
   "source": [
    "family = FamilyTree()\n",
    "\n",
    "### Define Family Tree\n",
    "family.add_member('Paternal Grandfather')\n",
    "family.add_member('Paternal Grandmother')\n",
    "family.add_member('Father', ['Paternal Grandfather', 'Paternal Grandmother'])\n",
    "family.add_member('Maternal Grandfather')\n",
    "family.add_member('Maternal Grandmother')\n",
    "family.add_member('Mother', ['Maternal Grandfather', 'Maternal Grandmother'])\n",
    "family.add_member('Child', ['Father','Mother'], status=2)\n",
    "family.specify_recessive_list(['Child'])\n",
    "\n",
    "simulation = SimulatePrevalence(family, # Import family tree data\n",
    "                                recessives_are_known=False,\n",
    "                                recessive_prevalence=0.5**2# Choose whether recessives are known\n",
    "                                )\n",
    "simulation.simulate()\n",
    "\n",
    "try:\n",
    "    # Check probabilities returned\n",
    "    probabilities = simulation.individual_probabilities()\n",
    "    assert(probabilities.loc['Father',1] == 0.5)\n",
    "    assert(probabilities.loc['Mother',1] == 0.5)\n",
    "    #assert(probabilities.loc['Son',2] == 0.25)\n",
    "except:\n",
    "    logger.warning('Issue with output probabilities')\n",
    "\n",
    "simulation.individual_probabilities()"
   ],
   "metadata": {
    "collapsed": false,
    "pycharm": {
     "name": "#%%\n"
    }
   }
  },
  {
   "cell_type": "code",
   "execution_count": 12,
   "outputs": [
    {
     "name": "stdout",
     "output_type": "stream",
     "text": [
      "Starting simulation\n",
      "05:09:31 INFO:4 key people; initially 81 independent unvalidated initial genomes\n",
      "05:09:31 INFO:4 key people; after validation, 16 independent initial genomes remain\n",
      "05:09:31 INFO:64 potential transmission chains\n",
      "05:09:31 INFO:Starting simulation - 1024 potential genome sets to create\n",
      "05:09:31 INFO:Simulation complete - 0 valid genome sets returned\n",
      "Starting simulation\n",
      "05:09:31 INFO:4 key people; initially 81 independent unvalidated initial genomes\n",
      "05:09:31 INFO:4 key people; after validation, 16 independent initial genomes remain\n",
      "05:09:31 INFO:64 potential transmission chains\n",
      "05:09:31 INFO:Starting simulation - 1024 potential genome sets to create\n",
      "05:09:31 INFO:Simulation complete - 0 valid genome sets returned\n",
      "05:09:31 WARNING:Issue with output probabilities\n"
     ]
    },
    {
     "data": {
      "text/plain": "                          0      1      2\nPaternal Grandfather  False  False  False\nPaternal Grandmother  False  False  False\nFather                False  False  False\nMaternal Grandfather  False  False  False\nMaternal Grandmother  False  False  False\nMother                False  False  False\nChild                 False  False  False",
      "text/html": "<div>\n<style scoped>\n    .dataframe tbody tr th:only-of-type {\n        vertical-align: middle;\n    }\n\n    .dataframe tbody tr th {\n        vertical-align: top;\n    }\n\n    .dataframe thead th {\n        text-align: right;\n    }\n</style>\n<table border=\"1\" class=\"dataframe\">\n  <thead>\n    <tr style=\"text-align: right;\">\n      <th></th>\n      <th>0</th>\n      <th>1</th>\n      <th>2</th>\n    </tr>\n  </thead>\n  <tbody>\n    <tr>\n      <th>Paternal Grandfather</th>\n      <td>False</td>\n      <td>False</td>\n      <td>False</td>\n    </tr>\n    <tr>\n      <th>Paternal Grandmother</th>\n      <td>False</td>\n      <td>False</td>\n      <td>False</td>\n    </tr>\n    <tr>\n      <th>Father</th>\n      <td>False</td>\n      <td>False</td>\n      <td>False</td>\n    </tr>\n    <tr>\n      <th>Maternal Grandfather</th>\n      <td>False</td>\n      <td>False</td>\n      <td>False</td>\n    </tr>\n    <tr>\n      <th>Maternal Grandmother</th>\n      <td>False</td>\n      <td>False</td>\n      <td>False</td>\n    </tr>\n    <tr>\n      <th>Mother</th>\n      <td>False</td>\n      <td>False</td>\n      <td>False</td>\n    </tr>\n    <tr>\n      <th>Child</th>\n      <td>False</td>\n      <td>False</td>\n      <td>False</td>\n    </tr>\n  </tbody>\n</table>\n</div>"
     },
     "execution_count": 12,
     "metadata": {},
     "output_type": "execute_result"
    }
   ],
   "source": [
    "family = FamilyTree()\n",
    "\n",
    "### Define Family Tree\n",
    "family.add_member('Paternal Grandfather')\n",
    "family.add_member('Paternal Grandmother')\n",
    "family.add_member('Father', ['Paternal Grandfather', 'Paternal Grandmother'])\n",
    "family.add_member('Maternal Grandfather')\n",
    "family.add_member('Maternal Grandmother')\n",
    "family.add_member('Mother', ['Maternal Grandfather', 'Maternal Grandmother'])\n",
    "family.add_member('Child', ['Father','Mother'], status=2)\n",
    "family.specify_recessive_list(['Child'])\n",
    "\n",
    "simulation = SimulatePrevalence(family, # Import family tree data\n",
    "                                recessives_are_known=True,\n",
    "                                recessive_prevalence=0.5**2# Choose whether recessives are known\n",
    "                                )\n",
    "simulation.simulate()\n",
    "\n",
    "try:\n",
    "    # Check probabilities returned\n",
    "    probabilities = simulation.individual_probabilities()\n",
    "    for person in probabilities.index:\n",
    "        probabilities.loc[person,2] == 0\n",
    "    assert(probabilities.loc['Father',1] == 1)\n",
    "    assert(probabilities.loc['Mother',1] == 1)\n",
    "\n",
    "except:\n",
    "    logger.warning('Issue with output probabilities')\n",
    "\n",
    "simulation.individual_probabilities()"
   ],
   "metadata": {
    "collapsed": false,
    "pycharm": {
     "name": "#%%\n"
    }
   }
  },
  {
   "cell_type": "code",
   "execution_count": 13,
   "outputs": [
    {
     "name": "stdout",
     "output_type": "stream",
     "text": [
      "Starting simulation\n",
      "05:10:14 INFO:4 key people; initially 81 independent unvalidated initial genomes\n",
      "05:10:14 INFO:4 key people; after validation, 16 independent initial genomes remain\n",
      "05:10:14 INFO:1024 potential transmission chains\n",
      "05:10:14 INFO:Starting simulation - 16384 potential genome sets to create\n",
      "05:10:15 INFO:Simulation complete - 1040 valid genome sets returned\n",
      "Starting simulation\n",
      "05:10:15 INFO:4 key people; initially 81 independent unvalidated initial genomes\n",
      "05:10:15 INFO:4 key people; after validation, 16 independent initial genomes remain\n",
      "05:10:15 INFO:1024 potential transmission chains\n",
      "05:10:15 INFO:Starting simulation - 16384 potential genome sets to create\n",
      "05:10:15 INFO:Simulation complete - 1040 valid genome sets returned\n"
     ]
    },
    {
     "data": {
      "text/plain": "                             0         1    2\nPaternal Grandfather  0.866697  0.133303  0.0\nPaternal Grandmother  0.866697  0.133303  0.0\nFather                0.829694  0.170306  0.0\nPaternal Uncle        1.000000  0.000000  0.0\nMaternal Grandfather  0.451965  0.548035  0.0\nMaternal Grandmother  0.451965  0.548035  0.0\nMother                0.082969  0.917031  0.0\nMaternal Uncle        0.000000  1.000000  0.0\nChild                 0.000000  1.000000  0.0",
      "text/html": "<div>\n<style scoped>\n    .dataframe tbody tr th:only-of-type {\n        vertical-align: middle;\n    }\n\n    .dataframe tbody tr th {\n        vertical-align: top;\n    }\n\n    .dataframe thead th {\n        text-align: right;\n    }\n</style>\n<table border=\"1\" class=\"dataframe\">\n  <thead>\n    <tr style=\"text-align: right;\">\n      <th></th>\n      <th>0</th>\n      <th>1</th>\n      <th>2</th>\n    </tr>\n  </thead>\n  <tbody>\n    <tr>\n      <th>Paternal Grandfather</th>\n      <td>0.866697</td>\n      <td>0.133303</td>\n      <td>0.0</td>\n    </tr>\n    <tr>\n      <th>Paternal Grandmother</th>\n      <td>0.866697</td>\n      <td>0.133303</td>\n      <td>0.0</td>\n    </tr>\n    <tr>\n      <th>Father</th>\n      <td>0.829694</td>\n      <td>0.170306</td>\n      <td>0.0</td>\n    </tr>\n    <tr>\n      <th>Paternal Uncle</th>\n      <td>1.000000</td>\n      <td>0.000000</td>\n      <td>0.0</td>\n    </tr>\n    <tr>\n      <th>Maternal Grandfather</th>\n      <td>0.451965</td>\n      <td>0.548035</td>\n      <td>0.0</td>\n    </tr>\n    <tr>\n      <th>Maternal Grandmother</th>\n      <td>0.451965</td>\n      <td>0.548035</td>\n      <td>0.0</td>\n    </tr>\n    <tr>\n      <th>Mother</th>\n      <td>0.082969</td>\n      <td>0.917031</td>\n      <td>0.0</td>\n    </tr>\n    <tr>\n      <th>Maternal Uncle</th>\n      <td>0.000000</td>\n      <td>1.000000</td>\n      <td>0.0</td>\n    </tr>\n    <tr>\n      <th>Child</th>\n      <td>0.000000</td>\n      <td>1.000000</td>\n      <td>0.0</td>\n    </tr>\n  </tbody>\n</table>\n</div>"
     },
     "execution_count": 13,
     "metadata": {},
     "output_type": "execute_result"
    }
   ],
   "source": [
    "family = FamilyTree()\n",
    "\n",
    "### Define Family Tree\n",
    "family.add_member('Paternal Grandfather')\n",
    "family.add_member('Paternal Grandmother')\n",
    "family.add_member('Father', ['Paternal Grandfather', 'Paternal Grandmother'])\n",
    "family.add_member('Paternal Uncle', ['Paternal Grandfather', 'Paternal Grandmother'], status=0)\n",
    "family.add_member('Maternal Grandfather')\n",
    "family.add_member('Maternal Grandmother')\n",
    "family.add_member('Mother', ['Maternal Grandfather', 'Maternal Grandmother'])\n",
    "family.add_member('Maternal Uncle', ['Maternal Grandfather', 'Maternal Grandmother'], status=1)\n",
    "family.add_member('Child', ['Father','Mother'], status=1)\n",
    "family.specify_recessive_list([])\n",
    "\n",
    "simulation = SimulatePrevalence(family, # Import family tree data\n",
    "                                recessives_are_known=True,\n",
    "                                recessive_prevalence=0.1**2# Choose whether recessives are known\n",
    "                                )\n",
    "simulation.simulate()\n",
    "\n",
    "try:\n",
    "    # Check probabilities returned\n",
    "    probabilities = simulation.individual_probabilities()\n",
    "    for person in probabilities.index:\n",
    "        probabilities.loc[person,2] == 0\n",
    "    assert(probabilities.loc['Child',1] == 1)\n",
    "    #assert(probabilities.loc['Mother',1] == 1)\n",
    "\n",
    "except:\n",
    "    logger.warning('Issue with output probabilities')\n",
    "\n",
    "#simulation._simulation\n",
    "probabilities"
   ],
   "metadata": {
    "collapsed": false,
    "pycharm": {
     "name": "#%%\n"
    }
   }
  }
 ],
 "metadata": {
  "kernelspec": {
   "name": "pycharm-7cefbe00",
   "language": "python",
   "display_name": "PyCharm (hurler_modelling)"
  },
  "language_info": {
   "codemirror_mode": {
    "name": "ipython",
    "version": 2
   },
   "file_extension": ".py",
   "mimetype": "text/x-python",
   "name": "python",
   "nbconvert_exporter": "python",
   "pygments_lexer": "ipython2",
   "version": "2.7.6"
  }
 },
 "nbformat": 4,
 "nbformat_minor": 0
}